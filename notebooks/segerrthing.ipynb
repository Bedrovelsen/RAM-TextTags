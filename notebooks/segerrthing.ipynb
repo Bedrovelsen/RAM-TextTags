{
 "cells": [
  {
   "cell_type": "code",
   "execution_count": null,
   "metadata": {},
   "outputs": [],
   "source": [
    "%cd /workspaces/codespaces-jupyter/notebooks/recognize-anything\n",
    "%pip cache purge\n",
    "\n",
    "%pip install --upgrade pip\n",
    "%pip install --upgrade pip setuptools"
   ]
  },
  {
   "cell_type": "code",
   "execution_count": null,
   "metadata": {},
   "outputs": [],
   "source": [
    "%pip install tokenizers\n",
    "%pip install transformers\n",
    "%pip install timm\n",
    "%pip install fairscale\n",
    "%pip install -r requirements.txt"
   ]
  },
  {
   "cell_type": "code",
   "execution_count": null,
   "metadata": {},
   "outputs": [],
   "source": [
    "#git clone https://github.com/xinyu1205/recognize-anything\n",
    "%pwd\n",
    "%pip install -r requirements.txt\n",
    "%pip install tokenizers"
   ]
  },
  {
   "cell_type": "code",
   "execution_count": null,
   "metadata": {},
   "outputs": [],
   "source": [
    "#!wget https://huggingface.co/spaces/xinyu1205/Recognize_Anything-Tag2Text/resolve/main/ram_swin_large_14m.pth\n",
    "!wget https://huggingface.co/spaces/xinyu1205/Recognize_Anything-Tag2Text/resolve/main/tag2text_swin_14m.pth"
   ]
  },
  {
   "cell_type": "code",
   "execution_count": null,
   "metadata": {},
   "outputs": [],
   "source": [
    "%pip install -e ."
   ]
  },
  {
   "cell_type": "code",
   "execution_count": null,
   "metadata": {},
   "outputs": [],
   "source": [
    "%rm *8554*\n",
    "!wget https://www.shodan.io/host/223.206.51.154/image?p=8554\n",
    "%mv image\\?p\\=8554 test.jpg"
   ]
  },
  {
   "cell_type": "code",
   "execution_count": 30,
   "metadata": {},
   "outputs": [
    {
     "name": "stdout",
     "output_type": "stream",
     "text": [
      "/encoder/layer/0/crossattention/self/query is tied\n",
      "/encoder/layer/0/crossattention/self/key is tied\n",
      "/encoder/layer/0/crossattention/self/value is tied\n",
      "/encoder/layer/0/crossattention/output/dense is tied\n",
      "/encoder/layer/0/crossattention/output/LayerNorm is tied\n",
      "/encoder/layer/0/intermediate/dense is tied\n",
      "/encoder/layer/0/output/dense is tied\n",
      "/encoder/layer/0/output/LayerNorm is tied\n",
      "/encoder/layer/1/crossattention/self/query is tied\n",
      "/encoder/layer/1/crossattention/self/key is tied\n",
      "/encoder/layer/1/crossattention/self/value is tied\n",
      "/encoder/layer/1/crossattention/output/dense is tied\n",
      "/encoder/layer/1/crossattention/output/LayerNorm is tied\n",
      "/encoder/layer/1/intermediate/dense is tied\n",
      "/encoder/layer/1/output/dense is tied\n",
      "/encoder/layer/1/output/LayerNorm is tied\n",
      "--------------\n",
      "ram_swin_large_14m.pth\n",
      "--------------\n"
     ]
    }
   ],
   "source": [
    "!python inference_ram.py  --image notebooks/recognize-anything/test.jpg --pretrained ram_swin_large_14m.pth"
   ]
  },
  {
   "cell_type": "code",
   "execution_count": null,
   "metadata": {},
   "outputs": [],
   "source": [
    "%pip install clip"
   ]
  },
  {
   "cell_type": "code",
   "execution_count": 31,
   "metadata": {},
   "outputs": [
    {
     "name": "stdout",
     "output_type": "stream",
     "text": [
      "Traceback (most recent call last):\n",
      "  File \"/workspaces/codespaces-jupyter/notebooks/recognize-anything/inference_ram_openset.py\", line 16, in <module>\n",
      "    from ram.utils import build_openset_label_embedding\n",
      "  File \"/workspaces/codespaces-jupyter/notebooks/recognize-anything/ram/utils/__init__.py\", line 1, in <module>\n",
      "    from .openset_utils import build_openset_label_embedding\n",
      "  File \"/workspaces/codespaces-jupyter/notebooks/recognize-anything/ram/utils/openset_utils.py\", line 6, in <module>\n",
      "    from clip import clip\n",
      "ModuleNotFoundError: No module named 'clip'\n"
     ]
    }
   ],
   "source": [
    "!python inference_ram_openset.py --image notebooks/recognize-anything/test.jpg --pretrained ram_swin_large_14m.pth"
   ]
  }
 ],
 "metadata": {
  "kernelspec": {
   "display_name": "Python 3",
   "language": "python",
   "name": "python3"
  },
  "language_info": {
   "codemirror_mode": {
    "name": "ipython",
    "version": 3
   },
   "file_extension": ".py",
   "mimetype": "text/x-python",
   "name": "python",
   "nbconvert_exporter": "python",
   "pygments_lexer": "ipython3",
   "version": "3.10.8"
  },
  "orig_nbformat": 4
 },
 "nbformat": 4,
 "nbformat_minor": 2
}
